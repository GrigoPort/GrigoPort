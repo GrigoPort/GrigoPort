{
  "nbformat": 4,
  "nbformat_minor": 0,
  "metadata": {
    "colab": {
      "provenance": [],
      "toc_visible": true,
      "mount_file_id": "1NXt34u8r7pWpw0fb6oXid9i3FGWqrIsL",
      "authorship_tag": "ABX9TyOWieooSdLSi5i9rq1oM6dz",
      "include_colab_link": true
    },
    "kernelspec": {
      "name": "python3",
      "display_name": "Python 3"
    },
    "language_info": {
      "name": "python"
    }
  },
  "cells": [
    {
      "cell_type": "markdown",
      "metadata": {
        "id": "view-in-github",
        "colab_type": "text"
      },
      "source": [
        "<a href=\"https://colab.research.google.com/github/GrigoPort/GrigoPort/blob/main/OCR_test.ipynb\" target=\"_parent\"><img src=\"https://colab.research.google.com/assets/colab-badge.svg\" alt=\"Open In Colab\"/></a>"
      ]
    },
    {
      "cell_type": "code",
      "source": [
        "!apt install libzbar0"
      ],
      "metadata": {
        "id": "RMf7yUc0PpnX"
      },
      "execution_count": null,
      "outputs": []
    },
    {
      "cell_type": "code",
      "source": [
        "!pip install pyzbar"
      ],
      "metadata": {
        "id": "vCnIxFSmSWr0"
      },
      "execution_count": null,
      "outputs": []
    },
    {
      "cell_type": "code",
      "execution_count": 1,
      "metadata": {
        "id": "eKVLCLh6GHsH",
        "colab": {
          "base_uri": "https://localhost:8080/"
        },
        "outputId": "5e3f02cf-f342-4aea-c1b2-0fb7636d32d7"
      },
      "outputs": [
        {
          "output_type": "stream",
          "name": "stdout",
          "text": [
            "Requirement already satisfied: opencv-python in /usr/local/lib/python3.10/dist-packages (4.8.0.76)\n",
            "Requirement already satisfied: numpy>=1.21.2 in /usr/local/lib/python3.10/dist-packages (from opencv-python) (1.23.5)\n"
          ]
        }
      ],
      "source": [
        "pip install opencv-python"
      ]
    },
    {
      "cell_type": "code",
      "source": [
        "!pip install pdf2image\n",
        "!apt install poppler-utils"
      ],
      "metadata": {
        "colab": {
          "base_uri": "https://localhost:8080/"
        },
        "id": "cHAEYiYObxOA",
        "outputId": "f74c87eb-9902-4732-f2d5-9286b3f12e92"
      },
      "execution_count": 2,
      "outputs": [
        {
          "output_type": "stream",
          "name": "stdout",
          "text": [
            "Collecting pdf2image\n",
            "  Downloading pdf2image-1.16.3-py3-none-any.whl (11 kB)\n",
            "Requirement already satisfied: pillow in /usr/local/lib/python3.10/dist-packages (from pdf2image) (9.4.0)\n",
            "Installing collected packages: pdf2image\n",
            "Successfully installed pdf2image-1.16.3\n",
            "Reading package lists... Done\n",
            "Building dependency tree... Done\n",
            "Reading state information... Done\n",
            "The following NEW packages will be installed:\n",
            "  poppler-utils\n",
            "0 upgraded, 1 newly installed, 0 to remove and 19 not upgraded.\n",
            "Need to get 186 kB of archives.\n",
            "After this operation, 696 kB of additional disk space will be used.\n",
            "Get:1 http://archive.ubuntu.com/ubuntu jammy-updates/main amd64 poppler-utils amd64 22.02.0-2ubuntu0.2 [186 kB]\n",
            "Fetched 186 kB in 1s (344 kB/s)\n",
            "Selecting previously unselected package poppler-utils.\n",
            "(Reading database ... 120874 files and directories currently installed.)\n",
            "Preparing to unpack .../poppler-utils_22.02.0-2ubuntu0.2_amd64.deb ...\n",
            "Unpacking poppler-utils (22.02.0-2ubuntu0.2) ...\n",
            "Setting up poppler-utils (22.02.0-2ubuntu0.2) ...\n",
            "Processing triggers for man-db (2.10.2-1) ...\n"
          ]
        }
      ]
    },
    {
      "cell_type": "markdown",
      "source": [
        "Рабочая версия с предобработкой изображения"
      ],
      "metadata": {
        "id": "2QWOm0ZQ5hGt"
      }
    },
    {
      "cell_type": "code",
      "source": [
        "from PIL import Image\n",
        "#from pyzbar.pyzbar import decode, ZBarSymbol\n",
        "import cv2\n",
        "from google.colab.patches import cv2_imshow\n",
        "\n",
        "img = cv2.imread('/content/drive/MyDrive/Colab Notebooks/REESTR_EXAMPLE/ttn_scan_p1.jpg',cv2.IMREAD_GRAYSCALE)\n",
        "#img2 = cv2.cvtColor(img, cv2.COLOR_BGR2GRAY)\n",
        "### https://stackoverflow.com/questions/73895525/opencv-not-detecting-qr-code-in-the-image\n",
        "blur = cv2.GaussianBlur(img, (5, 5), 0)\n",
        "ret, bw_im = cv2.threshold(blur, 0, 255, cv2.THRESH_BINARY+cv2.THRESH_OTSU)\n",
        "####\n",
        "#cv2_imshow(img)\n",
        "#cv2_imshow(img2)\n",
        "#cv2_imshow(bw_im)\n",
        "\n",
        "#cv2_imshow(img)\n",
        "detector = cv2.QRCodeDetector()\n",
        "# обнаружить и декодировать\n",
        "data, bbox, straight_qrcode = detector.detectAndDecode(bw_im)\n",
        "print(data)\n",
        "\n"
      ],
      "metadata": {
        "colab": {
          "base_uri": "https://localhost:8080/"
        },
        "id": "6ZZKUu9Npf91",
        "outputId": "66ea0c05-261b-44a5-b125-b7967aa2efc6"
      },
      "execution_count": null,
      "outputs": [
        {
          "output_type": "stream",
          "name": "stdout",
          "text": [
            "b8f8b312-8d9f-45b9-be3c-f868d2fea392\n"
          ]
        }
      ]
    },
    {
      "cell_type": "code",
      "source": [
        "!pip install cx_Oracle"
      ],
      "metadata": {
        "colab": {
          "base_uri": "https://localhost:8080/"
        },
        "id": "Vl4mj4ASIn20",
        "outputId": "760a4767-1ff7-43e7-a7f2-a05850299ca2"
      },
      "execution_count": 12,
      "outputs": [
        {
          "output_type": "stream",
          "name": "stdout",
          "text": [
            "Collecting cx_Oracle\n",
            "  Downloading cx_Oracle-8.3.0-cp310-cp310-manylinux_2_5_x86_64.manylinux1_x86_64.manylinux_2_12_x86_64.manylinux2010_x86_64.whl (892 kB)\n",
            "\u001b[?25l     \u001b[90m━━━━━━━━━━━━━━━━━━━━━━━━━━━━━━━━━━━━━━━━\u001b[0m \u001b[32m0.0/892.6 kB\u001b[0m \u001b[31m?\u001b[0m eta \u001b[36m-:--:--\u001b[0m\r\u001b[2K     \u001b[91m━━\u001b[0m\u001b[91m╸\u001b[0m\u001b[90m━━━━━━━━━━━━━━━━━━━━━━━━━━━━━━━━━━━━━\u001b[0m \u001b[32m61.4/892.6 kB\u001b[0m \u001b[31m1.9 MB/s\u001b[0m eta \u001b[36m0:00:01\u001b[0m\r\u001b[2K     \u001b[91m━━━━━━━━━━━━━━━━━━━━━━━━━━━\u001b[0m\u001b[91m╸\u001b[0m\u001b[90m━━━━━━━━━━━━\u001b[0m \u001b[32m624.6/892.6 kB\u001b[0m \u001b[31m9.3 MB/s\u001b[0m eta \u001b[36m0:00:01\u001b[0m\r\u001b[2K     \u001b[90m━━━━━━━━━━━━━━━━━━━━━━━━━━━━━━━━━━━━━━━━\u001b[0m \u001b[32m892.6/892.6 kB\u001b[0m \u001b[31m10.4 MB/s\u001b[0m eta \u001b[36m0:00:00\u001b[0m\n",
            "\u001b[?25hInstalling collected packages: cx_Oracle\n",
            "Successfully installed cx_Oracle-8.3.0\n"
          ]
        }
      ]
    },
    {
      "cell_type": "code",
      "source": [
        "#from pyzbar import pyzbar\n",
        "import cv2\n",
        "import numpy as np\n",
        "#import matplotlib.pyplot as plt\n",
        "from pdf2image import convert_from_path as CFP\n",
        "from google.colab.patches import cv2_imshow as cv2_imshow\n",
        "print(cv2.__version__)\n",
        "image_counter1 = 1\n",
        "PDF_file_1 = \"/content/drive/MyDrive/Colab Notebooks/REESTR_EXAMPLE/2710 ттн.pdf\"\n",
        "#PDF_file_1 = \"/content/drive/MyDrive/Colab Notebooks/REESTR_EXAMPLE/ttn_scan.pdf\"\n",
        "#PDF_file_1 = \"/content/drive/MyDrive/Colab Notebooks/REESTR_EXAMPLE/TTN_QR_CLEAR.pdf\"\n",
        "pages_1 = CFP(PDF_file_1)\n",
        "pcount = range(len(pages_1))\n",
        "print(pcount)\n",
        "n = 1\n",
        "for page in pages_1:\n",
        "  filename1 = \"/content/drive/MyDrive/Colab Notebooks/REESTR_EXAMPLE/ttn_scan_p\" + str(image_counter1) + \".jpg\"\n",
        "  page.save(filename1, 'JPEG')\n",
        "  img = cv2.imread(filename1)\n",
        "  img2 = cv2.cvtColor(img, cv2.COLOR_BGR2GRAY)\n",
        "  blur = cv2.GaussianBlur(img2, (5, 5), 0)\n",
        "  ret, bw_im = cv2.threshold(blur, 0, 255, cv2.THRESH_BINARY+cv2.THRESH_OTSU)\n",
        "  #cv2_imshow(img2)\n",
        "  detector = cv2.QRCodeDetector()\n",
        "  data, bbox, straight_qrcode = detector.detectAndDecode(img)\n",
        "  print(str(image_counter1) + \":\" + data)\n",
        "  rectifiedImage = np.uint8(straight_qrcode);\n",
        "  cv2_imshow(straight_qrcode);\n",
        "\n",
        "  # обнаружить и декодировать\n",
        "  detector = cv2.QRCodeDetector()\n",
        "  data, bbox, straight_qrcode = detector.detectAndDecode(bw_im)\n",
        "  print(str(image_counter1) + \":\" + data)\n",
        "  image_counter1 = image_counter1 + 1\n",
        "\n",
        "\n",
        "\n",
        "\n",
        "\n",
        "\n",
        "#barcodes = pyzbar.decode(img, symbols=[pyzbar.ZBarSymbol.CODE128])\n",
        "#bd = cv2.barcode.BarcodeDetector('/content/drive/MyDrive/Colab Notebooks/CV2_barcode/sr.prototxt', '/content/drive/MyDrive/Colab Notebooks/CV2_barcode/sr.caffemodel')\n",
        "#retval, decoded_info, decoded_type = bd.detectAndDecode(img)\n",
        "#print(retval)\n",
        "#print(decoded_type)\n",
        "#print(decoded_info)\n"
      ],
      "metadata": {
        "colab": {
          "base_uri": "https://localhost:8080/",
          "height": 1000
        },
        "id": "GaWI0-F6G0E9",
        "outputId": "9eb2fef6-02de-4ea9-bd16-1c862dd0dae3"
      },
      "execution_count": 23,
      "outputs": [
        {
          "output_type": "stream",
          "name": "stdout",
          "text": [
            "4.8.0\n",
            "range(0, 30)\n",
            "1:4035ff9d-61eb-4f38-95ca-197b750f30ef\n"
          ]
        },
        {
          "output_type": "display_data",
          "data": {
            "text/plain": [
              "<PIL.Image.Image image mode=L size=33x33>"
            ],
            "image/png": "[encoded data removed]"
          },
          "metadata": {}
        },
        {
          "output_type": "stream",
          "name": "stdout",
          "text": [
            "1:\n",
            "2:c62c1249-88ee-4ac7-8964-0f5aa6328b89\n"
          ]
        },
        {
          "output_type": "display_data",
          "data": {
            "text/plain": [
              "<PIL.Image.Image image mode=L size=33x33>"
            ],
            "image/png": "[encoded data removed]"
          },
          "metadata": {}
        },
        {
          "output_type": "stream",
          "name": "stdout",
          "text": [
            "2:c62c1249-88ee-4ac7-8964-0f5aa6328b89\n",
            "3:3bcbeeef-4079-43fa-a279-93f0ed9f00a7\n"
          ]
        },
        {
          "output_type": "display_data",
          "data": {
            "text/plain": [
              "<PIL.Image.Image image mode=L size=33x33>"
            ],
            "image/png": "[encoded data removed]"
          },
          "metadata": {}
        },
        {
          "output_type": "stream",
          "name": "stdout",
          "text": [
            "3:3bcbeeef-4079-43fa-a279-93f0ed9f00a7\n",
            "4:4121e0c1-7b8a-49b9-b97c-1bfaabe35b64\n"
          ]
        },
        {
          "output_type": "display_data",
          "data": {
            "text/plain": [
              "<PIL.Image.Image image mode=L size=33x33>"
            ],
            "image/png": "[encoded data removed]"
          },
          "metadata": {}
        },
        {
          "output_type": "stream",
          "name": "stdout",
          "text": [
            "4:4121e0c1-7b8a-49b9-b97c-1bfaabe35b64\n",
            "5:2b20a172-a502-414d-98c7-d33298b523bf\n"
          ]
        },
        {
          "output_type": "display_data",
          "data": {
            "text/plain": [
              "<PIL.Image.Image image mode=L size=33x33>"
            ],
            "image/png": "[encoded data removed]"
          },
          "metadata": {}
        },
        {
          "output_type": "stream",
          "name": "stdout",
          "text": [
            "5:2b20a172-a502-414d-98c7-d33298b523bf\n",
            "6:56e8058d-2eeb-4806-8dfc-46aa562904aa\n"
          ]
        },
        {
          "output_type": "display_data",
          "data": {
            "text/plain": [
              "<PIL.Image.Image image mode=L size=33x33>"
            ],
            "image/png": "[encoded data removed]"
          },
          "metadata": {}
        },
        {
          "output_type": "stream",
          "name": "stdout",
          "text": [
            "6:56e8058d-2eeb-4806-8dfc-46aa562904aa\n",
            "7:b0f3c315-7739-431f-81d3-7e49355c553d\n"
          ]
        },
        {
          "output_type": "display_data",
          "data": {
            "text/plain": [
              "<PIL.Image.Image image mode=L size=33x33>"
            ],
            "image/png": "[encoded data removed]"
          },
          "metadata": {}
        },
        {
          "output_type": "stream",
          "name": "stdout",
          "text": [
            "7:b0f3c315-7739-431f-81d3-7e49355c553d\n",
            "8:cf72a48c-a416-4046-b223-b2052ee96477\n"
          ]
        },
        {
          "output_type": "display_data",
          "data": {
            "text/plain": [
              "<PIL.Image.Image image mode=L size=33x33>"
            ],
            "image/png": "[encoded data removed]"
          },
          "metadata": {}
        },
        {
          "output_type": "stream",
          "name": "stdout",
          "text": [
            "8:cf72a48c-a416-4046-b223-b2052ee96477\n",
            "9:8e17b314-8ec1-4ed7-a840-9169af3addbc\n"
          ]
        },
        {
          "output_type": "display_data",
          "data": {
            "text/plain": [
              "<PIL.Image.Image image mode=L size=33x33>"
            ],
            "image/png": "[encoded data removed]"
          },
          "metadata": {}
        },
        {
          "output_type": "stream",
          "name": "stdout",
          "text": [
            "9:8e17b314-8ec1-4ed7-a840-9169af3addbc\n",
            "10:d892b26e-069a-48a2-83f1-cf149da36c7a\n"
          ]
        },
        {
          "output_type": "display_data",
          "data": {
            "text/plain": [
              "<PIL.Image.Image image mode=L size=33x33>"
            ],
            "image/png": "[encoded data removed]"
          },
          "metadata": {}
        },
        {
          "output_type": "stream",
          "name": "stdout",
          "text": [
            "10:d892b26e-069a-48a2-83f1-cf149da36c7a\n",
            "11:ba737874-7072-4751-bf02-aec172720281\n"
          ]
        },
        {
          "output_type": "display_data",
          "data": {
            "text/plain": [
              "<PIL.Image.Image image mode=L size=33x33>"
            ],
            "image/png": "[encoded data removed]"
          },
          "metadata": {}
        },
        {
          "output_type": "stream",
          "name": "stdout",
          "text": [
            "11:ba737874-7072-4751-bf02-aec172720281\n",
            "12:a0b4765c-ea1a-489e-9a49-3a44263e36f5\n"
          ]
        },
        {
          "output_type": "display_data",
          "data": {
            "text/plain": [
              "<PIL.Image.Image image mode=L size=33x33>"
            ],
            "image/png": "[encoded data removed]"
          },
          "metadata": {}
        },
        {
          "output_type": "stream",
          "name": "stdout",
          "text": [
            "12:a0b4765c-ea1a-489e-9a49-3a44263e36f5\n",
            "13:f221e345-c207-4e37-b802-f7f32a084cb5\n"
          ]
        },
        {
          "output_type": "display_data",
          "data": {
            "text/plain": [
              "<PIL.Image.Image image mode=L size=33x33>"
            ],
            "image/png": "[encoded data removed]"
          },
          "metadata": {}
        },
        {
          "output_type": "stream",
          "name": "stdout",
          "text": [
            "13:f221e345-c207-4e37-b802-f7f32a084cb5\n",
            "14:01cd6f64-95bb-4727-af19-4b690dfa1b0d\n"
          ]
        },
        {
          "output_type": "display_data",
          "data": {
            "text/plain": [
              "<PIL.Image.Image image mode=L size=33x33>"
            ],
            "image/png": "[encoded data removed]"
          },
          "metadata": {}
        },
        {
          "output_type": "stream",
          "name": "stdout",
          "text": [
            "14:01cd6f64-95bb-4727-af19-4b690dfa1b0d\n",
            "15:114f07eb-edf0-4806-8c49-421cf73740e9\n"
          ]
        },
        {
          "output_type": "display_data",
          "data": {
            "text/plain": [
              "<PIL.Image.Image image mode=L size=33x33>"
            ],
            "image/png": "[encoded data removed]"
          },
          "metadata": {}
        },
        {
          "output_type": "stream",
          "name": "stdout",
          "text": [
            "15:114f07eb-edf0-4806-8c49-421cf73740e9\n",
            "16:fc4fd048-b74a-4388-90e1-8f1f12b4490a\n"
          ]
        },
        {
          "output_type": "display_data",
          "data": {
            "text/plain": [
              "<PIL.Image.Image image mode=L size=33x33>"
            ],
            "image/png": "[encoded data removed]"
          },
          "metadata": {}
        },
        {
          "output_type": "stream",
          "name": "stdout",
          "text": [
            "16:fc4fd048-b74a-4388-90e1-8f1f12b4490a\n",
            "17:\n"
          ]
        },
        {
          "output_type": "error",
          "ename": "TypeError",
          "evalue": "ignored",
          "traceback": [
            "\u001b[0;31m---------------------------------------------------------------------------\u001b[0m",
            "\u001b[0;31mTypeError\u001b[0m                                 Traceback (most recent call last)",
            "\u001b[0;32m<ipython-input-23-85c16a3a4e6a>\u001b[0m in \u001b[0;36m<cell line: 16>\u001b[0;34m()\u001b[0m\n\u001b[1;32m     25\u001b[0m   \u001b[0mdata\u001b[0m\u001b[0;34m,\u001b[0m \u001b[0mbbox\u001b[0m\u001b[0;34m,\u001b[0m \u001b[0mstraight_qrcode\u001b[0m \u001b[0;34m=\u001b[0m \u001b[0mdetector\u001b[0m\u001b[0;34m.\u001b[0m\u001b[0mdetectAndDecode\u001b[0m\u001b[0;34m(\u001b[0m\u001b[0mimg\u001b[0m\u001b[0;34m)\u001b[0m\u001b[0;34m\u001b[0m\u001b[0;34m\u001b[0m\u001b[0m\n\u001b[1;32m     26\u001b[0m   \u001b[0mprint\u001b[0m\u001b[0;34m(\u001b[0m\u001b[0mstr\u001b[0m\u001b[0;34m(\u001b[0m\u001b[0mimage_counter1\u001b[0m\u001b[0;34m)\u001b[0m \u001b[0;34m+\u001b[0m \u001b[0;34m\":\"\u001b[0m \u001b[0;34m+\u001b[0m \u001b[0mdata\u001b[0m\u001b[0;34m)\u001b[0m\u001b[0;34m\u001b[0m\u001b[0;34m\u001b[0m\u001b[0m\n\u001b[0;32m---> 27\u001b[0;31m   \u001b[0mrectifiedImage\u001b[0m \u001b[0;34m=\u001b[0m \u001b[0mnp\u001b[0m\u001b[0;34m.\u001b[0m\u001b[0muint8\u001b[0m\u001b[0;34m(\u001b[0m\u001b[0mstraight_qrcode\u001b[0m\u001b[0;34m)\u001b[0m\u001b[0;34m;\u001b[0m\u001b[0;34m\u001b[0m\u001b[0;34m\u001b[0m\u001b[0m\n\u001b[0m\u001b[1;32m     28\u001b[0m   \u001b[0mcv2_imshow\u001b[0m\u001b[0;34m(\u001b[0m\u001b[0mstraight_qrcode\u001b[0m\u001b[0;34m)\u001b[0m\u001b[0;34m;\u001b[0m\u001b[0;34m\u001b[0m\u001b[0;34m\u001b[0m\u001b[0m\n\u001b[1;32m     29\u001b[0m \u001b[0;34m\u001b[0m\u001b[0m\n",
            "\u001b[0;31mTypeError\u001b[0m: int() argument must be a string, a bytes-like object or a real number, not 'NoneType'"
          ]
        }
      ]
    },
    {
      "cell_type": "markdown",
      "source": [
        "**На основе примера :**\n",
        "https://www.javatpoint.com/how-to-read-contents-of-pdf-using-ocr-in-python"
      ],
      "metadata": {
        "id": "7pQVFjm6cPJ6"
      }
    },
    {
      "cell_type": "code",
      "source": [
        "! apt install tesseract-ocr\n",
        "! apt install libtesseract-dev"
      ],
      "metadata": {
        "id": "2X9-u7aNfgnc"
      },
      "execution_count": null,
      "outputs": []
    },
    {
      "cell_type": "code",
      "source": [
        "!apt install poppler-utils"
      ],
      "metadata": {
        "id": "Dg3XsLRfet8u"
      },
      "execution_count": null,
      "outputs": []
    },
    {
      "cell_type": "code",
      "source": [
        "!pip install Pillow\n",
        "!pip install pytesseract\n",
        "!pip install pdf2image\n",
        "!pip install tesseract-ocr"
      ],
      "metadata": {
        "id": "ggLDRv0ucgL_"
      },
      "execution_count": null,
      "outputs": []
    },
    {
      "cell_type": "code",
      "source": [
        "pip install multilingual-pdf2text"
      ],
      "metadata": {
        "colab": {
          "base_uri": "https://localhost:8080/"
        },
        "id": "zIfYaN47id-R",
        "outputId": "37ad0091-dfbb-4566-cd02-f127dba4bd87"
      },
      "execution_count": null,
      "outputs": [
        {
          "output_type": "stream",
          "name": "stdout",
          "text": [
            "Collecting multilingual-pdf2text\n",
            "  Downloading multilingual_pdf2text-1.1.0-py3-none-any.whl (15 kB)\n",
            "Requirement already satisfied: pydantic in /usr/local/lib/python3.10/dist-packages (from multilingual-pdf2text) (1.10.12)\n",
            "Requirement already satisfied: pytesseract in /usr/local/lib/python3.10/dist-packages (from multilingual-pdf2text) (0.3.10)\n",
            "Requirement already satisfied: pdf2image in /usr/local/lib/python3.10/dist-packages (from multilingual-pdf2text) (1.16.3)\n",
            "Requirement already satisfied: pillow in /usr/local/lib/python3.10/dist-packages (from multilingual-pdf2text) (9.4.0)\n",
            "Requirement already satisfied: typing-extensions>=4.2.0 in /usr/local/lib/python3.10/dist-packages (from pydantic->multilingual-pdf2text) (4.5.0)\n",
            "Requirement already satisfied: packaging>=21.3 in /usr/local/lib/python3.10/dist-packages (from pytesseract->multilingual-pdf2text) (23.1)\n",
            "Installing collected packages: multilingual-pdf2text\n",
            "Successfully installed multilingual-pdf2text-1.1.0\n"
          ]
        }
      ]
    },
    {
      "cell_type": "code",
      "source": [
        "!apt install tesseract-ocr-rus"
      ],
      "metadata": {
        "colab": {
          "base_uri": "https://localhost:8080/"
        },
        "id": "P0xZ6cYQldIH",
        "outputId": "c5201601-aeea-4aab-f225-30a621183a41"
      },
      "execution_count": null,
      "outputs": [
        {
          "output_type": "stream",
          "name": "stdout",
          "text": [
            "Reading package lists... Done\n",
            "Building dependency tree... Done\n",
            "Reading state information... Done\n",
            "The following NEW packages will be installed:\n",
            "  tesseract-ocr-rus\n",
            "0 upgraded, 1 newly installed, 0 to remove and 18 not upgraded.\n",
            "Need to get 1,271 kB of archives.\n",
            "After this operation, 3,877 kB of additional disk space will be used.\n",
            "Get:1 http://archive.ubuntu.com/ubuntu jammy/universe amd64 tesseract-ocr-rus all 1:4.00~git30-7274cfa-1.1 [1,271 kB]\n",
            "Fetched 1,271 kB in 0s (4,107 kB/s)\n",
            "Selecting previously unselected package tesseract-ocr-rus.\n",
            "(Reading database ... 122732 files and directories currently installed.)\n",
            "Preparing to unpack .../tesseract-ocr-rus_1%3a4.00~git30-7274cfa-1.1_all.deb ...\n",
            "Unpacking tesseract-ocr-rus (1:4.00~git30-7274cfa-1.1) ...\n",
            "Setting up tesseract-ocr-rus (1:4.00~git30-7274cfa-1.1) ...\n"
          ]
        }
      ]
    }
  ]
}